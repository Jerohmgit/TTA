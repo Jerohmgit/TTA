{
  "nbformat": 4,
  "nbformat_minor": 0,
  "metadata": {
    "colab": {
      "name": "Home Learning Task 5.ipynb",
      "provenance": []
    },
    "kernelspec": {
      "name": "python3",
      "display_name": "Python 3"
    },
    "language_info": {
      "name": "python"
    }
  },
  "cells": [
    {
      "cell_type": "markdown",
      "source": [
        "Task 1\n",
        "\n",
        "Create a CSV file of 15 holiday destinations for a website \n",
        "\n",
        "Add in a column of destinations\n",
        "\n",
        "Add in a column that shows feedback score out of 10 for that destination\n",
        "\n",
        "Add in a column for average hotel star rating for those destinations \n",
        "\n",
        "Add in a column for number of all-inclusive hotels within each destination\n",
        "\n",
        "Add in the most visited city in each destination\n"
      ],
      "metadata": {
        "id": "_fQ9Jpvt0wQz"
      }
    },
    {
      "cell_type": "code",
      "execution_count": 8,
      "metadata": {
        "colab": {
          "base_uri": "https://localhost:8080/"
        },
        "id": "1FgXzQSIdFze",
        "outputId": "a202a710-fac6-4f38-c48d-62e96f3ee35c"
      },
      "outputs": [
        {
          "output_type": "stream",
          "name": "stdout",
          "text": [
            "                 Destination  feedback_score_out_of_10  \\\n",
            "1                      Dubai                        10   \n",
            "2              The Caribbean                        10   \n",
            "3                       Bali                        10   \n",
            "4                 Seychelles                        10   \n",
            "5              The Silk Road                         7   \n",
            "6                   Thailand                         8   \n",
            "7                  Mauritius                        10   \n",
            "8               The Maldives                        10   \n",
            "9                     Hawaii                         8   \n",
            "10    Aeolian Islands, Italy                         9   \n",
            "11  Ilha da Fuseta, Portugal                         7   \n",
            "12     Santa Giulia, Corsica                         7   \n",
            "13                      Fiji                         7   \n",
            "14                 Australia                         8   \n",
            "15                  Cambodia                         8   \n",
            "\n",
            "    average_hotel_star_rating  number_of_all-inclusive_hotels  \\\n",
            "1                         4.5                               9   \n",
            "2                         4.5                              33   \n",
            "3                         4.5                            2715   \n",
            "4                         4.5                               5   \n",
            "5                         4.5                              90   \n",
            "6                         4.5                              30   \n",
            "7                         4.5                              26   \n",
            "8                         4.5                              80   \n",
            "9                         4.5                              19   \n",
            "10                        4.5                              38   \n",
            "11                        4.5                            1718   \n",
            "12                        4.5                            2842   \n",
            "13                        4.5                              38   \n",
            "14                        4.5                              16   \n",
            "15                        4.5                            1915   \n",
            "\n",
            "     most_visited_city  \n",
            "1                Dubai  \n",
            "2   Dominican Republic  \n",
            "3                 Bali  \n",
            "4           Mahe Islan  \n",
            "5            Samarkand  \n",
            "6              Bangkok  \n",
            "7           Port Louis  \n",
            "8           Male Atoll  \n",
            "9             Honolulu  \n",
            "10           Stromboli  \n",
            "11      Ilha da Fuseta  \n",
            "12        Santa Giulia  \n",
            "13                Fiji  \n",
            "14              Sydney  \n",
            "15          Angkor Wat  \n"
          ]
        }
      ],
      "source": [
        "#Task 1\n",
        "import pandas as pd\n",
        "\n",
        "holiday = pd.read_csv(\"Destinations.csv\")\n",
        "holiday.index = 1, 2, 3, 4, 5, 6, 7, 8, 9, 10, 11, 12, 13, 14, 15\n",
        "print(holiday)"
      ]
    },
    {
      "cell_type": "markdown",
      "source": [
        "Practical to Task 1\n",
        "\n",
        "1. How many rows and columns are there in your file?\n",
        "\n",
        "2. Print row 3-8 ( using iloc/loc).\n",
        "\n",
        "3. Find the mean number of all-inclusive hotels across all destinations.\n",
        "\n",
        "4. Find the lowest scoring destination.\n",
        "\n",
        "5. Find the highest scoring destination.\n",
        "\n",
        "6. Find all the destinations where there are more than 9 all-inclusive hotels. \n",
        "\n",
        "7. Filter the data by score above 8.  \n",
        "\n",
        "8. Filter the data score below 2 ( I need to know if these destinations should be removed or there is a problem)\n",
        "\n"
      ],
      "metadata": {
        "id": "32DLKfCo1Dbw"
      }
    },
    {
      "cell_type": "code",
      "source": [
        "#Practical to Task 1\n",
        "\n",
        "holiday.shape                                       #1. How many rows and columns are there in your file?"
      ],
      "metadata": {
        "colab": {
          "base_uri": "https://localhost:8080/"
        },
        "id": "3QF72Ym12Ce_",
        "outputId": "08cdc85a-009d-4fd5-c23b-1888c25235b1"
      },
      "execution_count": 3,
      "outputs": [
        {
          "output_type": "execute_result",
          "data": {
            "text/plain": [
              "(15, 5)"
            ]
          },
          "metadata": {},
          "execution_count": 3
        }
      ]
    },
    {
      "cell_type": "code",
      "source": [
        "print(holiday.iloc[2:8])                            #2. Print row 3-8 ( using iloc/loc)."
      ],
      "metadata": {
        "id": "Am3rRopM2rBm",
        "colab": {
          "base_uri": "https://localhost:8080/"
        },
        "outputId": "686e560c-8458-40c7-8d56-26bb8f16d029"
      },
      "execution_count": 5,
      "outputs": [
        {
          "output_type": "stream",
          "name": "stdout",
          "text": [
            "     Destination  feedback_score_out_of_10  average_hotel_star_rating  \\\n",
            "3           Bali                        10                        4.5   \n",
            "4     Seychelles                        10                        4.5   \n",
            "5  The Silk Road                         7                        4.5   \n",
            "6       Thailand                         8                        4.5   \n",
            "7      Mauritius                        10                        4.5   \n",
            "8   The Maldives                        10                        4.5   \n",
            "\n",
            "   number_of_all-inclusive_hotels most_visited_city  \n",
            "3                            2715              Bali  \n",
            "4                               5        Mahe Islan  \n",
            "5                              90         Samarkand  \n",
            "6                              30           Bangkok  \n",
            "7                              26        Port Louis  \n",
            "8                              80        Male Atoll  \n"
          ]
        }
      ]
    },
    {
      "cell_type": "code",
      "source": [
        "holiday = pd.read_csv(\"Destinations.csv\", index_col = \"Destination\")\n",
        "print(holiday.loc[[\"Bali\", \"Seychelles\", \"The Silk Road\", \"Thailand\", \"Mauritius\", \"The Maldives\"]])"
      ],
      "metadata": {
        "colab": {
          "base_uri": "https://localhost:8080/"
        },
        "id": "68mCAdmoM5VS",
        "outputId": "b3131c81-72f5-4a77-e6fe-a00a4c103712"
      },
      "execution_count": 12,
      "outputs": [
        {
          "output_type": "stream",
          "name": "stdout",
          "text": [
            "               feedback_score_out_of_10  average_hotel_star_rating  \\\n",
            "Destination                                                          \n",
            "Bali                                 10                        4.5   \n",
            "Seychelles                           10                        4.5   \n",
            "The Silk Road                         7                        4.5   \n",
            "Thailand                              8                        4.5   \n",
            "Mauritius                            10                        4.5   \n",
            "The Maldives                         10                        4.5   \n",
            "\n",
            "               number_of_all-inclusive_hotels most_visited_city  \n",
            "Destination                                                      \n",
            "Bali                                     2715              Bali  \n",
            "Seychelles                                  5        Mahe Islan  \n",
            "The Silk Road                              90         Samarkand  \n",
            "Thailand                                   30           Bangkok  \n",
            "Mauritius                                  26        Port Louis  \n",
            "The Maldives                               80        Male Atoll  \n"
          ]
        }
      ]
    },
    {
      "cell_type": "code",
      "source": [
        "holiday[\"number_of_all-inclusive_hotels\"].mean()    #3. Find the mean number of all-inclusive hotels across all destinations."
      ],
      "metadata": {
        "colab": {
          "base_uri": "https://localhost:8080/"
        },
        "id": "INdLU9neQS86",
        "outputId": "9048c94a-54cd-4bb3-9647-3da1fe824503"
      },
      "execution_count": 13,
      "outputs": [
        {
          "output_type": "execute_result",
          "data": {
            "text/plain": [
              "638.2666666666667"
            ]
          },
          "metadata": {},
          "execution_count": 13
        }
      ]
    },
    {
      "cell_type": "code",
      "source": [
        "myfilter = holiday[\"average_hotel_star_rating\"] < 4.5 #4. Find the lowest scoring destination.\n",
        "myfilter.head()"
      ],
      "metadata": {
        "colab": {
          "base_uri": "https://localhost:8080/"
        },
        "id": "ye9jDaxKRO3m",
        "outputId": "0b71ed18-11ed-47b5-d78c-3970ca65bccb"
      },
      "execution_count": 18,
      "outputs": [
        {
          "output_type": "execute_result",
          "data": {
            "text/plain": [
              "Destination\n",
              "Dubai            False\n",
              "The Caribbean    False\n",
              "Bali             False\n",
              "Seychelles       False\n",
              "The Silk Road    False\n",
              "Name: average_hotel_star_rating, dtype: bool"
            ]
          },
          "metadata": {},
          "execution_count": 18
        }
      ]
    },
    {
      "cell_type": "code",
      "source": [
        "myfilter = holiday[\"average_hotel_star_rating\"] == 4.5 #5. Find the highest scoring destination.\n",
        "myfilter.head(15)"
      ],
      "metadata": {
        "colab": {
          "base_uri": "https://localhost:8080/"
        },
        "id": "MX7HHV8qTvAb",
        "outputId": "b67bcace-e723-4e37-9853-6f8cffc7edc7"
      },
      "execution_count": 22,
      "outputs": [
        {
          "output_type": "execute_result",
          "data": {
            "text/plain": [
              "Destination\n",
              "Dubai                       True\n",
              "The Caribbean               True\n",
              "Bali                        True\n",
              "Seychelles                  True\n",
              "The Silk Road               True\n",
              "Thailand                    True\n",
              "Mauritius                   True\n",
              "The Maldives                True\n",
              "Hawaii                      True\n",
              "Aeolian Islands, Italy      True\n",
              "Ilha da Fuseta, Portugal    True\n",
              "Santa Giulia, Corsica       True\n",
              "Fiji                        True\n",
              "Australia                   True\n",
              "Cambodia                    True\n",
              "Name: average_hotel_star_rating, dtype: bool"
            ]
          },
          "metadata": {},
          "execution_count": 22
        }
      ]
    },
    {
      "cell_type": "code",
      "source": [
        "myfilter = holiday[\"number_of_all-inclusive_hotels\"] > 9    #6. Find all the destinations where there are more than 9 all-inclusive hotels. \n",
        "myfilter.head(15)"
      ],
      "metadata": {
        "colab": {
          "base_uri": "https://localhost:8080/"
        },
        "id": "s2PNgZnTV4g3",
        "outputId": "e4a4e8ae-2f1a-47f9-894c-246d35ca80b0"
      },
      "execution_count": 23,
      "outputs": [
        {
          "output_type": "execute_result",
          "data": {
            "text/plain": [
              "Destination\n",
              "Dubai                       False\n",
              "The Caribbean                True\n",
              "Bali                         True\n",
              "Seychelles                  False\n",
              "The Silk Road                True\n",
              "Thailand                     True\n",
              "Mauritius                    True\n",
              "The Maldives                 True\n",
              "Hawaii                       True\n",
              "Aeolian Islands, Italy       True\n",
              "Ilha da Fuseta, Portugal     True\n",
              "Santa Giulia, Corsica        True\n",
              "Fiji                         True\n",
              "Australia                    True\n",
              "Cambodia                     True\n",
              "Name: number_of_all-inclusive_hotels, dtype: bool"
            ]
          },
          "metadata": {},
          "execution_count": 23
        }
      ]
    },
    {
      "cell_type": "code",
      "source": [
        "myfilter = holiday[\"feedback_score_out_of_10\"] > 8    #7. Filter the data by score above 8. \n",
        "myfilter.head(15)"
      ],
      "metadata": {
        "colab": {
          "base_uri": "https://localhost:8080/"
        },
        "id": "QvpzAvMsXh-z",
        "outputId": "63c4a48f-e307-4999-e396-98ec5d345791"
      },
      "execution_count": 25,
      "outputs": [
        {
          "output_type": "execute_result",
          "data": {
            "text/plain": [
              "Destination\n",
              "Dubai                        True\n",
              "The Caribbean                True\n",
              "Bali                         True\n",
              "Seychelles                   True\n",
              "The Silk Road               False\n",
              "Thailand                    False\n",
              "Mauritius                    True\n",
              "The Maldives                 True\n",
              "Hawaii                      False\n",
              "Aeolian Islands, Italy       True\n",
              "Ilha da Fuseta, Portugal    False\n",
              "Santa Giulia, Corsica       False\n",
              "Fiji                        False\n",
              "Australia                   False\n",
              "Cambodia                    False\n",
              "Name: feedback_score_out_of_10, dtype: bool"
            ]
          },
          "metadata": {},
          "execution_count": 25
        }
      ]
    },
    {
      "cell_type": "code",
      "source": [
        "myfilter = holiday[\"feedback_score_out_of_10\"] < 2    #8. Filter the data score below 2 \n",
        "myfilter.head(15)"
      ],
      "metadata": {
        "colab": {
          "base_uri": "https://localhost:8080/"
        },
        "id": "F-1I8UsJYTL1",
        "outputId": "faff0992-ab6d-46e0-b872-a3ed24bb3c0f"
      },
      "execution_count": 26,
      "outputs": [
        {
          "output_type": "execute_result",
          "data": {
            "text/plain": [
              "Destination\n",
              "Dubai                       False\n",
              "The Caribbean               False\n",
              "Bali                        False\n",
              "Seychelles                  False\n",
              "The Silk Road               False\n",
              "Thailand                    False\n",
              "Mauritius                   False\n",
              "The Maldives                False\n",
              "Hawaii                      False\n",
              "Aeolian Islands, Italy      False\n",
              "Ilha da Fuseta, Portugal    False\n",
              "Santa Giulia, Corsica       False\n",
              "Fiji                        False\n",
              "Australia                   False\n",
              "Cambodia                    False\n",
              "Name: feedback_score_out_of_10, dtype: bool"
            ]
          },
          "metadata": {},
          "execution_count": 26
        }
      ]
    },
    {
      "cell_type": "markdown",
      "source": [
        "Extension to Task 1\n",
        "\n",
        "1. Is there a correlation between number of all-inclusive hotels and score?\n",
        "\n",
        "2. Create a data visualisation diagram to show destination and highest scores?"
      ],
      "metadata": {
        "id": "Xr3S0VOU2o6U"
      }
    },
    {
      "cell_type": "code",
      "source": [
        "import altair as alt\n",
        "\n",
        "\n",
        "#1. Is there a correlation between number of all-inclusive hotels and score?\n",
        "\n",
        "df = pd.DataFrame({'number_of_all-inclusive_hotels': (9, 33, 2715, 5, 90, 30, 26, 80, 19, 38, 1718, 2842, 38, 16, 1915),\n",
        "                   'feedback_score_out_of_10': [10, 10, 10, 10, 7, 8, 10, 10, 8, 9, 7, 7, 7, 8, 8]\n",
        "                     })\n",
        "\n",
        "chart = alt.Chart(df).mark_point().encode(x='number_of_all-inclusive_hotels', y='feedback_score_out_of_10')\n",
        "\n",
        "chart\n"
      ],
      "metadata": {
        "colab": {
          "base_uri": "https://localhost:8080/",
          "height": 368
        },
        "id": "77C9NnG0agLT",
        "outputId": "e3abcaae-f5db-4772-cf82-eb64db6edf45"
      },
      "execution_count": 43,
      "outputs": [
        {
          "output_type": "execute_result",
          "data": {
            "text/html": [
              "\n",
              "<div id=\"altair-viz-b5461b7dfe1743c7aac6b44740d477a2\"></div>\n",
              "<script type=\"text/javascript\">\n",
              "  var VEGA_DEBUG = (typeof VEGA_DEBUG == \"undefined\") ? {} : VEGA_DEBUG;\n",
              "  (function(spec, embedOpt){\n",
              "    let outputDiv = document.currentScript.previousElementSibling;\n",
              "    if (outputDiv.id !== \"altair-viz-b5461b7dfe1743c7aac6b44740d477a2\") {\n",
              "      outputDiv = document.getElementById(\"altair-viz-b5461b7dfe1743c7aac6b44740d477a2\");\n",
              "    }\n",
              "    const paths = {\n",
              "      \"vega\": \"https://cdn.jsdelivr.net/npm//vega@5?noext\",\n",
              "      \"vega-lib\": \"https://cdn.jsdelivr.net/npm//vega-lib?noext\",\n",
              "      \"vega-lite\": \"https://cdn.jsdelivr.net/npm//vega-lite@4.17.0?noext\",\n",
              "      \"vega-embed\": \"https://cdn.jsdelivr.net/npm//vega-embed@6?noext\",\n",
              "    };\n",
              "\n",
              "    function maybeLoadScript(lib, version) {\n",
              "      var key = `${lib.replace(\"-\", \"\")}_version`;\n",
              "      return (VEGA_DEBUG[key] == version) ?\n",
              "        Promise.resolve(paths[lib]) :\n",
              "        new Promise(function(resolve, reject) {\n",
              "          var s = document.createElement('script');\n",
              "          document.getElementsByTagName(\"head\")[0].appendChild(s);\n",
              "          s.async = true;\n",
              "          s.onload = () => {\n",
              "            VEGA_DEBUG[key] = version;\n",
              "            return resolve(paths[lib]);\n",
              "          };\n",
              "          s.onerror = () => reject(`Error loading script: ${paths[lib]}`);\n",
              "          s.src = paths[lib];\n",
              "        });\n",
              "    }\n",
              "\n",
              "    function showError(err) {\n",
              "      outputDiv.innerHTML = `<div class=\"error\" style=\"color:red;\">${err}</div>`;\n",
              "      throw err;\n",
              "    }\n",
              "\n",
              "    function displayChart(vegaEmbed) {\n",
              "      vegaEmbed(outputDiv, spec, embedOpt)\n",
              "        .catch(err => showError(`Javascript Error: ${err.message}<br>This usually means there's a typo in your chart specification. See the javascript console for the full traceback.`));\n",
              "    }\n",
              "\n",
              "    if(typeof define === \"function\" && define.amd) {\n",
              "      requirejs.config({paths});\n",
              "      require([\"vega-embed\"], displayChart, err => showError(`Error loading script: ${err.message}`));\n",
              "    } else {\n",
              "      maybeLoadScript(\"vega\", \"5\")\n",
              "        .then(() => maybeLoadScript(\"vega-lite\", \"4.17.0\"))\n",
              "        .then(() => maybeLoadScript(\"vega-embed\", \"6\"))\n",
              "        .catch(showError)\n",
              "        .then(() => displayChart(vegaEmbed));\n",
              "    }\n",
              "  })({\"config\": {\"view\": {\"continuousWidth\": 400, \"continuousHeight\": 300}}, \"data\": {\"name\": \"data-bc08e3de828475c297f92b5e2a94af5d\"}, \"mark\": \"point\", \"encoding\": {\"x\": {\"field\": \"number_of_all-inclusive_hotels\", \"type\": \"quantitative\"}, \"y\": {\"field\": \"feedback_score_out_of_10\", \"type\": \"quantitative\"}}, \"$schema\": \"https://vega.github.io/schema/vega-lite/v4.17.0.json\", \"datasets\": {\"data-bc08e3de828475c297f92b5e2a94af5d\": [{\"number_of_all-inclusive_hotels\": 9, \"feedback_score_out_of_10\": 10}, {\"number_of_all-inclusive_hotels\": 33, \"feedback_score_out_of_10\": 10}, {\"number_of_all-inclusive_hotels\": 2715, \"feedback_score_out_of_10\": 10}, {\"number_of_all-inclusive_hotels\": 5, \"feedback_score_out_of_10\": 10}, {\"number_of_all-inclusive_hotels\": 90, \"feedback_score_out_of_10\": 7}, {\"number_of_all-inclusive_hotels\": 30, \"feedback_score_out_of_10\": 8}, {\"number_of_all-inclusive_hotels\": 26, \"feedback_score_out_of_10\": 10}, {\"number_of_all-inclusive_hotels\": 80, \"feedback_score_out_of_10\": 10}, {\"number_of_all-inclusive_hotels\": 19, \"feedback_score_out_of_10\": 8}, {\"number_of_all-inclusive_hotels\": 38, \"feedback_score_out_of_10\": 9}, {\"number_of_all-inclusive_hotels\": 1718, \"feedback_score_out_of_10\": 7}, {\"number_of_all-inclusive_hotels\": 2842, \"feedback_score_out_of_10\": 7}, {\"number_of_all-inclusive_hotels\": 38, \"feedback_score_out_of_10\": 7}, {\"number_of_all-inclusive_hotels\": 16, \"feedback_score_out_of_10\": 8}, {\"number_of_all-inclusive_hotels\": 1915, \"feedback_score_out_of_10\": 8}]}}, {\"mode\": \"vega-lite\"});\n",
              "</script>"
            ],
            "text/plain": [
              "alt.Chart(...)"
            ]
          },
          "metadata": {},
          "execution_count": 43
        }
      ]
    },
    {
      "cell_type": "code",
      "source": [
        "print(\"no correlation\")"
      ],
      "metadata": {
        "colab": {
          "base_uri": "https://localhost:8080/"
        },
        "id": "mHNz9IFMrxwu",
        "outputId": "907e3290-c588-45eb-ce8b-0149b3f6eafc"
      },
      "execution_count": 44,
      "outputs": [
        {
          "output_type": "stream",
          "name": "stdout",
          "text": [
            "no correlation\n"
          ]
        }
      ]
    },
    {
      "cell_type": "code",
      "source": [
        "import matplotlib.pyplot as plt\n",
        "\n",
        "#2. Create a data visualisation diagram to show destination and highest scores?\n",
        "\n",
        "df = pd.DataFrame({'Destination': (\"Dubai\", \"The Caribbean\", \"Bali\", \"Seychelles\", \"The Silk Road\", \n",
        "                    \"Thailand\", \"Mauritius\", \"The Maldives\", \"Hawaii\", \"Aeolian Islands, Italy\", \"Ilha da Fuseta, Portugal\", \n",
        "                    \"Santa Giulia, Corsica\", \"Fiji\", \"Australia\", \"Cambodia\"),\n",
        "                   'feedback_score_out_of_10': [10, 10, 10, 10, 7, 8, 10, 10, 8, 9, 7, 7, 7, 8, 8]\n",
        "                     })\n",
        "\n",
        "chart = alt.Chart(df).mark_point().encode(x='Destination', y='feedback_score_out_of_10')\n",
        "\n",
        "chart"
      ],
      "metadata": {
        "colab": {
          "base_uri": "https://localhost:8080/",
          "height": 471
        },
        "id": "6NXWH4hlr7dR",
        "outputId": "7986b874-d9a3-49fd-f6ca-59269a2c956d"
      },
      "execution_count": 49,
      "outputs": [
        {
          "output_type": "execute_result",
          "data": {
            "text/html": [
              "\n",
              "<div id=\"altair-viz-ca6db916ae054078bc147a47c131a5b5\"></div>\n",
              "<script type=\"text/javascript\">\n",
              "  var VEGA_DEBUG = (typeof VEGA_DEBUG == \"undefined\") ? {} : VEGA_DEBUG;\n",
              "  (function(spec, embedOpt){\n",
              "    let outputDiv = document.currentScript.previousElementSibling;\n",
              "    if (outputDiv.id !== \"altair-viz-ca6db916ae054078bc147a47c131a5b5\") {\n",
              "      outputDiv = document.getElementById(\"altair-viz-ca6db916ae054078bc147a47c131a5b5\");\n",
              "    }\n",
              "    const paths = {\n",
              "      \"vega\": \"https://cdn.jsdelivr.net/npm//vega@5?noext\",\n",
              "      \"vega-lib\": \"https://cdn.jsdelivr.net/npm//vega-lib?noext\",\n",
              "      \"vega-lite\": \"https://cdn.jsdelivr.net/npm//vega-lite@4.17.0?noext\",\n",
              "      \"vega-embed\": \"https://cdn.jsdelivr.net/npm//vega-embed@6?noext\",\n",
              "    };\n",
              "\n",
              "    function maybeLoadScript(lib, version) {\n",
              "      var key = `${lib.replace(\"-\", \"\")}_version`;\n",
              "      return (VEGA_DEBUG[key] == version) ?\n",
              "        Promise.resolve(paths[lib]) :\n",
              "        new Promise(function(resolve, reject) {\n",
              "          var s = document.createElement('script');\n",
              "          document.getElementsByTagName(\"head\")[0].appendChild(s);\n",
              "          s.async = true;\n",
              "          s.onload = () => {\n",
              "            VEGA_DEBUG[key] = version;\n",
              "            return resolve(paths[lib]);\n",
              "          };\n",
              "          s.onerror = () => reject(`Error loading script: ${paths[lib]}`);\n",
              "          s.src = paths[lib];\n",
              "        });\n",
              "    }\n",
              "\n",
              "    function showError(err) {\n",
              "      outputDiv.innerHTML = `<div class=\"error\" style=\"color:red;\">${err}</div>`;\n",
              "      throw err;\n",
              "    }\n",
              "\n",
              "    function displayChart(vegaEmbed) {\n",
              "      vegaEmbed(outputDiv, spec, embedOpt)\n",
              "        .catch(err => showError(`Javascript Error: ${err.message}<br>This usually means there's a typo in your chart specification. See the javascript console for the full traceback.`));\n",
              "    }\n",
              "\n",
              "    if(typeof define === \"function\" && define.amd) {\n",
              "      requirejs.config({paths});\n",
              "      require([\"vega-embed\"], displayChart, err => showError(`Error loading script: ${err.message}`));\n",
              "    } else {\n",
              "      maybeLoadScript(\"vega\", \"5\")\n",
              "        .then(() => maybeLoadScript(\"vega-lite\", \"4.17.0\"))\n",
              "        .then(() => maybeLoadScript(\"vega-embed\", \"6\"))\n",
              "        .catch(showError)\n",
              "        .then(() => displayChart(vegaEmbed));\n",
              "    }\n",
              "  })({\"config\": {\"view\": {\"continuousWidth\": 400, \"continuousHeight\": 300}}, \"data\": {\"name\": \"data-d9fe892fe569f195ee54ebf80a98155e\"}, \"mark\": \"point\", \"encoding\": {\"x\": {\"field\": \"Destination\", \"type\": \"nominal\"}, \"y\": {\"field\": \"feedback_score_out_of_10\", \"type\": \"quantitative\"}}, \"$schema\": \"https://vega.github.io/schema/vega-lite/v4.17.0.json\", \"datasets\": {\"data-d9fe892fe569f195ee54ebf80a98155e\": [{\"Destination\": \"Dubai\", \"feedback_score_out_of_10\": 10}, {\"Destination\": \"The Caribbean\", \"feedback_score_out_of_10\": 10}, {\"Destination\": \"Bali\", \"feedback_score_out_of_10\": 10}, {\"Destination\": \"Seychelles\", \"feedback_score_out_of_10\": 10}, {\"Destination\": \"The Silk Road\", \"feedback_score_out_of_10\": 7}, {\"Destination\": \"Thailand\", \"feedback_score_out_of_10\": 8}, {\"Destination\": \"Mauritius\", \"feedback_score_out_of_10\": 10}, {\"Destination\": \"The Maldives\", \"feedback_score_out_of_10\": 10}, {\"Destination\": \"Hawaii\", \"feedback_score_out_of_10\": 8}, {\"Destination\": \"Aeolian Islands, Italy\", \"feedback_score_out_of_10\": 9}, {\"Destination\": \"Ilha da Fuseta, Portugal\", \"feedback_score_out_of_10\": 7}, {\"Destination\": \"Santa Giulia, Corsica\", \"feedback_score_out_of_10\": 7}, {\"Destination\": \"Fiji\", \"feedback_score_out_of_10\": 7}, {\"Destination\": \"Australia\", \"feedback_score_out_of_10\": 8}, {\"Destination\": \"Cambodia\", \"feedback_score_out_of_10\": 8}]}}, {\"mode\": \"vega-lite\"});\n",
              "</script>"
            ],
            "text/plain": [
              "alt.Chart(...)"
            ]
          },
          "metadata": {},
          "execution_count": 49
        }
      ]
    }
  ]
}