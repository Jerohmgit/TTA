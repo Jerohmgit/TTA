{
  "nbformat": 4,
  "nbformat_minor": 0,
  "metadata": {
    "colab": {
      "name": "Home Learning Task 5.ipynb",
      "provenance": []
    },
    "kernelspec": {
      "name": "python3",
      "display_name": "Python 3"
    },
    "language_info": {
      "name": "python"
    }
  },
  "cells": [
    {
      "cell_type": "markdown",
      "source": [
        "Task 1\n",
        "\n",
        "Create a CSV file of 15 holiday destinations for a website \n",
        "\n",
        "Add in a column of destinations\n",
        "\n",
        "Add in a column that shows feedback score out of 10 for that destination\n",
        "\n",
        "Add in a column for average hotel star rating for those destinations \n",
        "\n",
        "Add in a column for number of all-inclusive hotels within each destination\n",
        "\n",
        "Add in the most visited city in each destination\n"
      ],
      "metadata": {
        "id": "_fQ9Jpvt0wQz"
      }
    },
    {
      "cell_type": "code",
      "execution_count": 3,
      "metadata": {
        "colab": {
          "base_uri": "https://localhost:8080/"
        },
        "id": "1FgXzQSIdFze",
        "outputId": "35383f00-c6e0-4b99-99bd-681635f191fc"
      },
      "outputs": [
        {
          "output_type": "stream",
          "name": "stdout",
          "text": [
            "                 Destination  feedback_score_out_of_10  \\\n",
            "1                      Dubai                        10   \n",
            "2              The Caribbean                        10   \n",
            "3                       Bali                        10   \n",
            "4                 Seychelles                        10   \n",
            "5              The Silk Road                         7   \n",
            "6                   Thailand                         8   \n",
            "7                  Mauritius                        10   \n",
            "8               The Maldives                        10   \n",
            "9                     Hawaii                         8   \n",
            "10    Aeolian Islands, Italy                         9   \n",
            "11  Ilha da Fuseta, Portugal                         7   \n",
            "12     Santa Giulia, Corsica                         7   \n",
            "13                      Fiji                         7   \n",
            "14                 Australia                         8   \n",
            "15                  Cambodia                         8   \n",
            "\n",
            "    average_hotel_star_rating  number_of_all-inclusive_hotels  \\\n",
            "1                         4.5                               9   \n",
            "2                         4.5                              33   \n",
            "3                         4.5                            2715   \n",
            "4                         4.5                               5   \n",
            "5                         4.5                              90   \n",
            "6                         4.5                              30   \n",
            "7                         4.5                              26   \n",
            "8                         4.5                              80   \n",
            "9                         4.5                              19   \n",
            "10                        4.5                              38   \n",
            "11                        4.5                            1718   \n",
            "12                        4.5                            2842   \n",
            "13                        4.5                              38   \n",
            "14                        4.5                              16   \n",
            "15                        4.5                            1915   \n",
            "\n",
            "     most_visited_city  \n",
            "1                Dubai  \n",
            "2   Dominican Republic  \n",
            "3                 Bali  \n",
            "4           Mahe Islan  \n",
            "5            Samarkand  \n",
            "6              Bangkok  \n",
            "7           Port Louis  \n",
            "8           Male Atoll  \n",
            "9             Honolulu  \n",
            "10           Stromboli  \n",
            "11      Ilha da Fuseta  \n",
            "12        Santa Giulia  \n",
            "13                Fiji  \n",
            "14              Sydney  \n",
            "15          Angkor Wat  \n"
          ]
        }
      ],
      "source": [
        "#Task 1\n",
        "import pandas as pd\n",
        "\n",
        "holiday = pd.read_csv(\"Destinations.csv\")\n",
        "holiday.index = 1, 2, 3, 4, 5, 6, 7, 8, 9, 10, 11, 12, 13, 14, 15\n",
        "print(holiday)"
      ]
    },
    {
      "cell_type": "markdown",
      "source": [
        "Practical to Task 1\n",
        "\n",
        "1. How many rows and columns are there in your file?\n",
        "\n",
        "2. Print row 3-8 ( using iloc/loc).\n",
        "\n",
        "3. Find the mean number of all-inclusive hotels across all destinations.\n",
        "\n",
        "4. Find the lowest scoring destination.\n",
        "\n",
        "5. Find the highest scoring destination.\n",
        "\n",
        "6. Find all the destinations where there are more than 9 all-inclusive hotels. \n",
        "\n",
        "7. Filter the data by score above 8.  \n",
        "\n",
        "8. Filter the data score below 2 ( I need to know if these destinations should be removed or there is a problem)\n",
        "\n"
      ],
      "metadata": {
        "id": "32DLKfCo1Dbw"
      }
    },
    {
      "cell_type": "code",
      "source": [
        "#Practical to Task 1\n",
        "\n",
        "holiday.shape                                       #1. How many rows and columns are there in your file?"
      ],
      "metadata": {
        "colab": {
          "base_uri": "https://localhost:8080/"
        },
        "id": "3QF72Ym12Ce_",
        "outputId": "08cdc85a-009d-4fd5-c23b-1888c25235b1"
      },
      "execution_count": 3,
      "outputs": [
        {
          "output_type": "execute_result",
          "data": {
            "text/plain": [
              "(15, 5)"
            ]
          },
          "metadata": {},
          "execution_count": 3
        }
      ]
    },
    {
      "cell_type": "code",
      "source": [
        "print(holiday.iloc[2:8])                            #2. Print row 3-8 ( using iloc/loc)."
      ],
      "metadata": {
        "id": "Am3rRopM2rBm",
        "colab": {
          "base_uri": "https://localhost:8080/"
        },
        "outputId": "cc2c656c-957a-45dd-d4d3-cd962bdf7ce4"
      },
      "execution_count": 5,
      "outputs": [
        {
          "output_type": "stream",
          "name": "stdout",
          "text": [
            "     Destination  feedback_score_out_of_10  average_hotel_star_rating  \\\n",
            "3           Bali                        10                        4.5   \n",
            "4     Seychelles                        10                        4.5   \n",
            "5  The Silk Road                         7                        4.5   \n",
            "6       Thailand                         8                        4.5   \n",
            "7      Mauritius                        10                        4.5   \n",
            "8   The Maldives                        10                        4.5   \n",
            "\n",
            "   number_of_all-inclusive_hotels most_visited_city  \n",
            "3                            2715              Bali  \n",
            "4                               5        Mahe Islan  \n",
            "5                              90         Samarkand  \n",
            "6                              30           Bangkok  \n",
            "7                              26        Port Louis  \n",
            "8                              80        Male Atoll  \n"
          ]
        }
      ]
    },
    {
      "cell_type": "code",
      "source": [
        "holiday = pd.read_csv(\"Destinations.csv\", index_col = \"Destination\")\n",
        "print(holiday.loc[[\"Bali\", \"Seychelles\", \"The Silk Road\", \"Thailand\", \"Mauritius\", \"The Maldives\"]])"
      ],
      "metadata": {
        "colab": {
          "base_uri": "https://localhost:8080/"
        },
        "id": "68mCAdmoM5VS",
        "outputId": "b3131c81-72f5-4a77-e6fe-a00a4c103712"
      },
      "execution_count": 12,
      "outputs": [
        {
          "output_type": "stream",
          "name": "stdout",
          "text": [
            "               feedback_score_out_of_10  average_hotel_star_rating  \\\n",
            "Destination                                                          \n",
            "Bali                                 10                        4.5   \n",
            "Seychelles                           10                        4.5   \n",
            "The Silk Road                         7                        4.5   \n",
            "Thailand                              8                        4.5   \n",
            "Mauritius                            10                        4.5   \n",
            "The Maldives                         10                        4.5   \n",
            "\n",
            "               number_of_all-inclusive_hotels most_visited_city  \n",
            "Destination                                                      \n",
            "Bali                                     2715              Bali  \n",
            "Seychelles                                  5        Mahe Islan  \n",
            "The Silk Road                              90         Samarkand  \n",
            "Thailand                                   30           Bangkok  \n",
            "Mauritius                                  26        Port Louis  \n",
            "The Maldives                               80        Male Atoll  \n"
          ]
        }
      ]
    },
    {
      "cell_type": "code",
      "source": [
        "holiday[\"number_of_all-inclusive_hotels\"].mean()    #3. Find the mean number of all-inclusive hotels across all destinations."
      ],
      "metadata": {
        "colab": {
          "base_uri": "https://localhost:8080/"
        },
        "id": "INdLU9neQS86",
        "outputId": "9048c94a-54cd-4bb3-9647-3da1fe824503"
      },
      "execution_count": 13,
      "outputs": [
        {
          "output_type": "execute_result",
          "data": {
            "text/plain": [
              "638.2666666666667"
            ]
          },
          "metadata": {},
          "execution_count": 13
        }
      ]
    },
    {
      "cell_type": "code",
      "source": [
        "myfilter = holiday[\"average_hotel_star_rating\"] < 4.5 #4. Find the lowest scoring destination.\n",
        "myfilter.head()"
      ],
      "metadata": {
        "colab": {
          "base_uri": "https://localhost:8080/"
        },
        "id": "ye9jDaxKRO3m",
        "outputId": "38033c51-d217-49ec-e1b7-6eb09d8d8636"
      },
      "execution_count": 11,
      "outputs": [
        {
          "output_type": "execute_result",
          "data": {
            "text/plain": [
              "1    False\n",
              "2    False\n",
              "3    False\n",
              "4    False\n",
              "5    False\n",
              "Name: average_hotel_star_rating, dtype: bool"
            ]
          },
          "metadata": {},
          "execution_count": 11
        }
      ]
    },
    {
      "cell_type": "code",
      "source": [
        "#alternative solution using min()\n",
        "\n",
        "myfilter = holiday[\"feedback_score_out_of_10\"] == holiday[\"feedback_score_out_of_10\"].min()\n",
        "holiday[myfilter]"
      ],
      "metadata": {
        "colab": {
          "base_uri": "https://localhost:8080/",
          "height": 175
        },
        "id": "BaTgVesP1Gjj",
        "outputId": "bdbbc86f-07c6-4c9b-cf3c-c5b1822e9393"
      },
      "execution_count": 39,
      "outputs": [
        {
          "output_type": "execute_result",
          "data": {
            "text/plain": [
              "                 Destination  feedback_score_out_of_10  \\\n",
              "5              The Silk Road                         7   \n",
              "11  Ilha da Fuseta, Portugal                         7   \n",
              "12     Santa Giulia, Corsica                         7   \n",
              "13                      Fiji                         7   \n",
              "\n",
              "    average_hotel_star_rating  number_of_all-inclusive_hotels  \\\n",
              "5                         4.5                              90   \n",
              "11                        4.5                            1718   \n",
              "12                        4.5                            2842   \n",
              "13                        4.5                              38   \n",
              "\n",
              "   most_visited_city  \n",
              "5          Samarkand  \n",
              "11    Ilha da Fuseta  \n",
              "12      Santa Giulia  \n",
              "13              Fiji  "
            ],
            "text/html": [
              "\n",
              "  <div id=\"df-608ff0b7-ca5e-4317-85c3-7e114f1bf163\">\n",
              "    <div class=\"colab-df-container\">\n",
              "      <div>\n",
              "<style scoped>\n",
              "    .dataframe tbody tr th:only-of-type {\n",
              "        vertical-align: middle;\n",
              "    }\n",
              "\n",
              "    .dataframe tbody tr th {\n",
              "        vertical-align: top;\n",
              "    }\n",
              "\n",
              "    .dataframe thead th {\n",
              "        text-align: right;\n",
              "    }\n",
              "</style>\n",
              "<table border=\"1\" class=\"dataframe\">\n",
              "  <thead>\n",
              "    <tr style=\"text-align: right;\">\n",
              "      <th></th>\n",
              "      <th>Destination</th>\n",
              "      <th>feedback_score_out_of_10</th>\n",
              "      <th>average_hotel_star_rating</th>\n",
              "      <th>number_of_all-inclusive_hotels</th>\n",
              "      <th>most_visited_city</th>\n",
              "    </tr>\n",
              "  </thead>\n",
              "  <tbody>\n",
              "    <tr>\n",
              "      <th>5</th>\n",
              "      <td>The Silk Road</td>\n",
              "      <td>7</td>\n",
              "      <td>4.5</td>\n",
              "      <td>90</td>\n",
              "      <td>Samarkand</td>\n",
              "    </tr>\n",
              "    <tr>\n",
              "      <th>11</th>\n",
              "      <td>Ilha da Fuseta, Portugal</td>\n",
              "      <td>7</td>\n",
              "      <td>4.5</td>\n",
              "      <td>1718</td>\n",
              "      <td>Ilha da Fuseta</td>\n",
              "    </tr>\n",
              "    <tr>\n",
              "      <th>12</th>\n",
              "      <td>Santa Giulia, Corsica</td>\n",
              "      <td>7</td>\n",
              "      <td>4.5</td>\n",
              "      <td>2842</td>\n",
              "      <td>Santa Giulia</td>\n",
              "    </tr>\n",
              "    <tr>\n",
              "      <th>13</th>\n",
              "      <td>Fiji</td>\n",
              "      <td>7</td>\n",
              "      <td>4.5</td>\n",
              "      <td>38</td>\n",
              "      <td>Fiji</td>\n",
              "    </tr>\n",
              "  </tbody>\n",
              "</table>\n",
              "</div>\n",
              "      <button class=\"colab-df-convert\" onclick=\"convertToInteractive('df-608ff0b7-ca5e-4317-85c3-7e114f1bf163')\"\n",
              "              title=\"Convert this dataframe to an interactive table.\"\n",
              "              style=\"display:none;\">\n",
              "        \n",
              "  <svg xmlns=\"http://www.w3.org/2000/svg\" height=\"24px\"viewBox=\"0 0 24 24\"\n",
              "       width=\"24px\">\n",
              "    <path d=\"M0 0h24v24H0V0z\" fill=\"none\"/>\n",
              "    <path d=\"M18.56 5.44l.94 2.06.94-2.06 2.06-.94-2.06-.94-.94-2.06-.94 2.06-2.06.94zm-11 1L8.5 8.5l.94-2.06 2.06-.94-2.06-.94L8.5 2.5l-.94 2.06-2.06.94zm10 10l.94 2.06.94-2.06 2.06-.94-2.06-.94-.94-2.06-.94 2.06-2.06.94z\"/><path d=\"M17.41 7.96l-1.37-1.37c-.4-.4-.92-.59-1.43-.59-.52 0-1.04.2-1.43.59L10.3 9.45l-7.72 7.72c-.78.78-.78 2.05 0 2.83L4 21.41c.39.39.9.59 1.41.59.51 0 1.02-.2 1.41-.59l7.78-7.78 2.81-2.81c.8-.78.8-2.07 0-2.86zM5.41 20L4 18.59l7.72-7.72 1.47 1.35L5.41 20z\"/>\n",
              "  </svg>\n",
              "      </button>\n",
              "      \n",
              "  <style>\n",
              "    .colab-df-container {\n",
              "      display:flex;\n",
              "      flex-wrap:wrap;\n",
              "      gap: 12px;\n",
              "    }\n",
              "\n",
              "    .colab-df-convert {\n",
              "      background-color: #E8F0FE;\n",
              "      border: none;\n",
              "      border-radius: 50%;\n",
              "      cursor: pointer;\n",
              "      display: none;\n",
              "      fill: #1967D2;\n",
              "      height: 32px;\n",
              "      padding: 0 0 0 0;\n",
              "      width: 32px;\n",
              "    }\n",
              "\n",
              "    .colab-df-convert:hover {\n",
              "      background-color: #E2EBFA;\n",
              "      box-shadow: 0px 1px 2px rgba(60, 64, 67, 0.3), 0px 1px 3px 1px rgba(60, 64, 67, 0.15);\n",
              "      fill: #174EA6;\n",
              "    }\n",
              "\n",
              "    [theme=dark] .colab-df-convert {\n",
              "      background-color: #3B4455;\n",
              "      fill: #D2E3FC;\n",
              "    }\n",
              "\n",
              "    [theme=dark] .colab-df-convert:hover {\n",
              "      background-color: #434B5C;\n",
              "      box-shadow: 0px 1px 3px 1px rgba(0, 0, 0, 0.15);\n",
              "      filter: drop-shadow(0px 1px 2px rgba(0, 0, 0, 0.3));\n",
              "      fill: #FFFFFF;\n",
              "    }\n",
              "  </style>\n",
              "\n",
              "      <script>\n",
              "        const buttonEl =\n",
              "          document.querySelector('#df-608ff0b7-ca5e-4317-85c3-7e114f1bf163 button.colab-df-convert');\n",
              "        buttonEl.style.display =\n",
              "          google.colab.kernel.accessAllowed ? 'block' : 'none';\n",
              "\n",
              "        async function convertToInteractive(key) {\n",
              "          const element = document.querySelector('#df-608ff0b7-ca5e-4317-85c3-7e114f1bf163');\n",
              "          const dataTable =\n",
              "            await google.colab.kernel.invokeFunction('convertToInteractive',\n",
              "                                                     [key], {});\n",
              "          if (!dataTable) return;\n",
              "\n",
              "          const docLinkHtml = 'Like what you see? Visit the ' +\n",
              "            '<a target=\"_blank\" href=https://colab.research.google.com/notebooks/data_table.ipynb>data table notebook</a>'\n",
              "            + ' to learn more about interactive tables.';\n",
              "          element.innerHTML = '';\n",
              "          dataTable['output_type'] = 'display_data';\n",
              "          await google.colab.output.renderOutput(dataTable, element);\n",
              "          const docLink = document.createElement('div');\n",
              "          docLink.innerHTML = docLinkHtml;\n",
              "          element.appendChild(docLink);\n",
              "        }\n",
              "      </script>\n",
              "    </div>\n",
              "  </div>\n",
              "  "
            ]
          },
          "metadata": {},
          "execution_count": 39
        }
      ]
    },
    {
      "cell_type": "code",
      "source": [
        "myfilter = holiday[\"average_hotel_star_rating\"] == 4.5 #5. Find the highest scoring destination.\n",
        "myfilter.head(15)"
      ],
      "metadata": {
        "colab": {
          "base_uri": "https://localhost:8080/"
        },
        "id": "MX7HHV8qTvAb",
        "outputId": "b67bcace-e723-4e37-9853-6f8cffc7edc7"
      },
      "execution_count": 22,
      "outputs": [
        {
          "output_type": "execute_result",
          "data": {
            "text/plain": [
              "Destination\n",
              "Dubai                       True\n",
              "The Caribbean               True\n",
              "Bali                        True\n",
              "Seychelles                  True\n",
              "The Silk Road               True\n",
              "Thailand                    True\n",
              "Mauritius                   True\n",
              "The Maldives                True\n",
              "Hawaii                      True\n",
              "Aeolian Islands, Italy      True\n",
              "Ilha da Fuseta, Portugal    True\n",
              "Santa Giulia, Corsica       True\n",
              "Fiji                        True\n",
              "Australia                   True\n",
              "Cambodia                    True\n",
              "Name: average_hotel_star_rating, dtype: bool"
            ]
          },
          "metadata": {},
          "execution_count": 22
        }
      ]
    },
    {
      "cell_type": "code",
      "source": [
        "#alternative solution using max()\n",
        "\n",
        "myfilter = holiday[\"feedback_score_out_of_10\"] == holiday[\"feedback_score_out_of_10\"].max()\n",
        "holiday[myfilter]"
      ],
      "metadata": {
        "colab": {
          "base_uri": "https://localhost:8080/",
          "height": 238
        },
        "id": "56XuLdyk10r1",
        "outputId": "2fd08790-5dd8-4edc-e231-6bcddfc512cb"
      },
      "execution_count": 41,
      "outputs": [
        {
          "output_type": "execute_result",
          "data": {
            "text/plain": [
              "     Destination  feedback_score_out_of_10  average_hotel_star_rating  \\\n",
              "1          Dubai                        10                        4.5   \n",
              "2  The Caribbean                        10                        4.5   \n",
              "3           Bali                        10                        4.5   \n",
              "4     Seychelles                        10                        4.5   \n",
              "7      Mauritius                        10                        4.5   \n",
              "8   The Maldives                        10                        4.5   \n",
              "\n",
              "   number_of_all-inclusive_hotels   most_visited_city  \n",
              "1                               9               Dubai  \n",
              "2                              33  Dominican Republic  \n",
              "3                            2715                Bali  \n",
              "4                               5          Mahe Islan  \n",
              "7                              26          Port Louis  \n",
              "8                              80          Male Atoll  "
            ],
            "text/html": [
              "\n",
              "  <div id=\"df-1299f8a7-99ee-4faa-8916-a6fca4036dbc\">\n",
              "    <div class=\"colab-df-container\">\n",
              "      <div>\n",
              "<style scoped>\n",
              "    .dataframe tbody tr th:only-of-type {\n",
              "        vertical-align: middle;\n",
              "    }\n",
              "\n",
              "    .dataframe tbody tr th {\n",
              "        vertical-align: top;\n",
              "    }\n",
              "\n",
              "    .dataframe thead th {\n",
              "        text-align: right;\n",
              "    }\n",
              "</style>\n",
              "<table border=\"1\" class=\"dataframe\">\n",
              "  <thead>\n",
              "    <tr style=\"text-align: right;\">\n",
              "      <th></th>\n",
              "      <th>Destination</th>\n",
              "      <th>feedback_score_out_of_10</th>\n",
              "      <th>average_hotel_star_rating</th>\n",
              "      <th>number_of_all-inclusive_hotels</th>\n",
              "      <th>most_visited_city</th>\n",
              "    </tr>\n",
              "  </thead>\n",
              "  <tbody>\n",
              "    <tr>\n",
              "      <th>1</th>\n",
              "      <td>Dubai</td>\n",
              "      <td>10</td>\n",
              "      <td>4.5</td>\n",
              "      <td>9</td>\n",
              "      <td>Dubai</td>\n",
              "    </tr>\n",
              "    <tr>\n",
              "      <th>2</th>\n",
              "      <td>The Caribbean</td>\n",
              "      <td>10</td>\n",
              "      <td>4.5</td>\n",
              "      <td>33</td>\n",
              "      <td>Dominican Republic</td>\n",
              "    </tr>\n",
              "    <tr>\n",
              "      <th>3</th>\n",
              "      <td>Bali</td>\n",
              "      <td>10</td>\n",
              "      <td>4.5</td>\n",
              "      <td>2715</td>\n",
              "      <td>Bali</td>\n",
              "    </tr>\n",
              "    <tr>\n",
              "      <th>4</th>\n",
              "      <td>Seychelles</td>\n",
              "      <td>10</td>\n",
              "      <td>4.5</td>\n",
              "      <td>5</td>\n",
              "      <td>Mahe Islan</td>\n",
              "    </tr>\n",
              "    <tr>\n",
              "      <th>7</th>\n",
              "      <td>Mauritius</td>\n",
              "      <td>10</td>\n",
              "      <td>4.5</td>\n",
              "      <td>26</td>\n",
              "      <td>Port Louis</td>\n",
              "    </tr>\n",
              "    <tr>\n",
              "      <th>8</th>\n",
              "      <td>The Maldives</td>\n",
              "      <td>10</td>\n",
              "      <td>4.5</td>\n",
              "      <td>80</td>\n",
              "      <td>Male Atoll</td>\n",
              "    </tr>\n",
              "  </tbody>\n",
              "</table>\n",
              "</div>\n",
              "      <button class=\"colab-df-convert\" onclick=\"convertToInteractive('df-1299f8a7-99ee-4faa-8916-a6fca4036dbc')\"\n",
              "              title=\"Convert this dataframe to an interactive table.\"\n",
              "              style=\"display:none;\">\n",
              "        \n",
              "  <svg xmlns=\"http://www.w3.org/2000/svg\" height=\"24px\"viewBox=\"0 0 24 24\"\n",
              "       width=\"24px\">\n",
              "    <path d=\"M0 0h24v24H0V0z\" fill=\"none\"/>\n",
              "    <path d=\"M18.56 5.44l.94 2.06.94-2.06 2.06-.94-2.06-.94-.94-2.06-.94 2.06-2.06.94zm-11 1L8.5 8.5l.94-2.06 2.06-.94-2.06-.94L8.5 2.5l-.94 2.06-2.06.94zm10 10l.94 2.06.94-2.06 2.06-.94-2.06-.94-.94-2.06-.94 2.06-2.06.94z\"/><path d=\"M17.41 7.96l-1.37-1.37c-.4-.4-.92-.59-1.43-.59-.52 0-1.04.2-1.43.59L10.3 9.45l-7.72 7.72c-.78.78-.78 2.05 0 2.83L4 21.41c.39.39.9.59 1.41.59.51 0 1.02-.2 1.41-.59l7.78-7.78 2.81-2.81c.8-.78.8-2.07 0-2.86zM5.41 20L4 18.59l7.72-7.72 1.47 1.35L5.41 20z\"/>\n",
              "  </svg>\n",
              "      </button>\n",
              "      \n",
              "  <style>\n",
              "    .colab-df-container {\n",
              "      display:flex;\n",
              "      flex-wrap:wrap;\n",
              "      gap: 12px;\n",
              "    }\n",
              "\n",
              "    .colab-df-convert {\n",
              "      background-color: #E8F0FE;\n",
              "      border: none;\n",
              "      border-radius: 50%;\n",
              "      cursor: pointer;\n",
              "      display: none;\n",
              "      fill: #1967D2;\n",
              "      height: 32px;\n",
              "      padding: 0 0 0 0;\n",
              "      width: 32px;\n",
              "    }\n",
              "\n",
              "    .colab-df-convert:hover {\n",
              "      background-color: #E2EBFA;\n",
              "      box-shadow: 0px 1px 2px rgba(60, 64, 67, 0.3), 0px 1px 3px 1px rgba(60, 64, 67, 0.15);\n",
              "      fill: #174EA6;\n",
              "    }\n",
              "\n",
              "    [theme=dark] .colab-df-convert {\n",
              "      background-color: #3B4455;\n",
              "      fill: #D2E3FC;\n",
              "    }\n",
              "\n",
              "    [theme=dark] .colab-df-convert:hover {\n",
              "      background-color: #434B5C;\n",
              "      box-shadow: 0px 1px 3px 1px rgba(0, 0, 0, 0.15);\n",
              "      filter: drop-shadow(0px 1px 2px rgba(0, 0, 0, 0.3));\n",
              "      fill: #FFFFFF;\n",
              "    }\n",
              "  </style>\n",
              "\n",
              "      <script>\n",
              "        const buttonEl =\n",
              "          document.querySelector('#df-1299f8a7-99ee-4faa-8916-a6fca4036dbc button.colab-df-convert');\n",
              "        buttonEl.style.display =\n",
              "          google.colab.kernel.accessAllowed ? 'block' : 'none';\n",
              "\n",
              "        async function convertToInteractive(key) {\n",
              "          const element = document.querySelector('#df-1299f8a7-99ee-4faa-8916-a6fca4036dbc');\n",
              "          const dataTable =\n",
              "            await google.colab.kernel.invokeFunction('convertToInteractive',\n",
              "                                                     [key], {});\n",
              "          if (!dataTable) return;\n",
              "\n",
              "          const docLinkHtml = 'Like what you see? Visit the ' +\n",
              "            '<a target=\"_blank\" href=https://colab.research.google.com/notebooks/data_table.ipynb>data table notebook</a>'\n",
              "            + ' to learn more about interactive tables.';\n",
              "          element.innerHTML = '';\n",
              "          dataTable['output_type'] = 'display_data';\n",
              "          await google.colab.output.renderOutput(dataTable, element);\n",
              "          const docLink = document.createElement('div');\n",
              "          docLink.innerHTML = docLinkHtml;\n",
              "          element.appendChild(docLink);\n",
              "        }\n",
              "      </script>\n",
              "    </div>\n",
              "  </div>\n",
              "  "
            ]
          },
          "metadata": {},
          "execution_count": 41
        }
      ]
    },
    {
      "cell_type": "code",
      "source": [
        "myfilter = holiday[\"number_of_all-inclusive_hotels\"] > 9    #6. Find all the destinations where there are more than 9 all-inclusive hotels. \n",
        "myfilter.head(15)"
      ],
      "metadata": {
        "colab": {
          "base_uri": "https://localhost:8080/"
        },
        "id": "s2PNgZnTV4g3",
        "outputId": "e4a4e8ae-2f1a-47f9-894c-246d35ca80b0"
      },
      "execution_count": 23,
      "outputs": [
        {
          "output_type": "execute_result",
          "data": {
            "text/plain": [
              "Destination\n",
              "Dubai                       False\n",
              "The Caribbean                True\n",
              "Bali                         True\n",
              "Seychelles                  False\n",
              "The Silk Road                True\n",
              "Thailand                     True\n",
              "Mauritius                    True\n",
              "The Maldives                 True\n",
              "Hawaii                       True\n",
              "Aeolian Islands, Italy       True\n",
              "Ilha da Fuseta, Portugal     True\n",
              "Santa Giulia, Corsica        True\n",
              "Fiji                         True\n",
              "Australia                    True\n",
              "Cambodia                     True\n",
              "Name: number_of_all-inclusive_hotels, dtype: bool"
            ]
          },
          "metadata": {},
          "execution_count": 23
        }
      ]
    },
    {
      "cell_type": "code",
      "source": [
        "myfilter = holiday[\"feedback_score_out_of_10\"] > 8    #7. Filter the data by score above 8. \n",
        "myfilter.head(15)"
      ],
      "metadata": {
        "colab": {
          "base_uri": "https://localhost:8080/"
        },
        "id": "QvpzAvMsXh-z",
        "outputId": "63c4a48f-e307-4999-e396-98ec5d345791"
      },
      "execution_count": 25,
      "outputs": [
        {
          "output_type": "execute_result",
          "data": {
            "text/plain": [
              "Destination\n",
              "Dubai                        True\n",
              "The Caribbean                True\n",
              "Bali                         True\n",
              "Seychelles                   True\n",
              "The Silk Road               False\n",
              "Thailand                    False\n",
              "Mauritius                    True\n",
              "The Maldives                 True\n",
              "Hawaii                      False\n",
              "Aeolian Islands, Italy       True\n",
              "Ilha da Fuseta, Portugal    False\n",
              "Santa Giulia, Corsica       False\n",
              "Fiji                        False\n",
              "Australia                   False\n",
              "Cambodia                    False\n",
              "Name: feedback_score_out_of_10, dtype: bool"
            ]
          },
          "metadata": {},
          "execution_count": 25
        }
      ]
    },
    {
      "cell_type": "code",
      "source": [
        "myfilter = holiday[\"feedback_score_out_of_10\"] < 2    #8. Filter the data score below 2 \n",
        "myfilter.head(15)"
      ],
      "metadata": {
        "colab": {
          "base_uri": "https://localhost:8080/"
        },
        "id": "F-1I8UsJYTL1",
        "outputId": "faff0992-ab6d-46e0-b872-a3ed24bb3c0f"
      },
      "execution_count": 26,
      "outputs": [
        {
          "output_type": "execute_result",
          "data": {
            "text/plain": [
              "Destination\n",
              "Dubai                       False\n",
              "The Caribbean               False\n",
              "Bali                        False\n",
              "Seychelles                  False\n",
              "The Silk Road               False\n",
              "Thailand                    False\n",
              "Mauritius                   False\n",
              "The Maldives                False\n",
              "Hawaii                      False\n",
              "Aeolian Islands, Italy      False\n",
              "Ilha da Fuseta, Portugal    False\n",
              "Santa Giulia, Corsica       False\n",
              "Fiji                        False\n",
              "Australia                   False\n",
              "Cambodia                    False\n",
              "Name: feedback_score_out_of_10, dtype: bool"
            ]
          },
          "metadata": {},
          "execution_count": 26
        }
      ]
    },
    {
      "cell_type": "markdown",
      "source": [
        "Extension to Task 1\n",
        "\n",
        "1. Is there a correlation between number of all-inclusive hotels and score?\n",
        "\n",
        "2. Create a data visualisation diagram to show destination and highest scores?"
      ],
      "metadata": {
        "id": "Xr3S0VOU2o6U"
      }
    },
    {
      "cell_type": "code",
      "source": [
        "import altair as alt\n",
        "\n",
        "\n",
        "#1. Is there a correlation between number of all-inclusive hotels and score?\n",
        "\n",
        "df = pd.DataFrame({'number_of_all-inclusive_hotels': (9, 33, 2715, 5, 90, 30, 26, 80, 19, 38, 1718, 2842, 38, 16, 1915),\n",
        "                   'feedback_score_out_of_10': [10, 10, 10, 10, 7, 8, 10, 10, 8, 9, 7, 7, 7, 8, 8]\n",
        "                     })\n",
        "\n",
        "chart = alt.Chart(df).mark_point().encode(x='number_of_all-inclusive_hotels', y='feedback_score_out_of_10')\n",
        "\n",
        "chart\n"
      ],
      "metadata": {
        "colab": {
          "base_uri": "https://localhost:8080/",
          "height": 368
        },
        "id": "77C9NnG0agLT",
        "outputId": "e3abcaae-f5db-4772-cf82-eb64db6edf45"
      },
      "execution_count": 43,
      "outputs": [
        {
          "output_type": "execute_result",
          "data": {
            "text/html": [
              "\n",
              "<div id=\"altair-viz-b5461b7dfe1743c7aac6b44740d477a2\"></div>\n",
              "<script type=\"text/javascript\">\n",
              "  var VEGA_DEBUG = (typeof VEGA_DEBUG == \"undefined\") ? {} : VEGA_DEBUG;\n",
              "  (function(spec, embedOpt){\n",
              "    let outputDiv = document.currentScript.previousElementSibling;\n",
              "    if (outputDiv.id !== \"altair-viz-b5461b7dfe1743c7aac6b44740d477a2\") {\n",
              "      outputDiv = document.getElementById(\"altair-viz-b5461b7dfe1743c7aac6b44740d477a2\");\n",
              "    }\n",
              "    const paths = {\n",
              "      \"vega\": \"https://cdn.jsdelivr.net/npm//vega@5?noext\",\n",
              "      \"vega-lib\": \"https://cdn.jsdelivr.net/npm//vega-lib?noext\",\n",
              "      \"vega-lite\": \"https://cdn.jsdelivr.net/npm//vega-lite@4.17.0?noext\",\n",
              "      \"vega-embed\": \"https://cdn.jsdelivr.net/npm//vega-embed@6?noext\",\n",
              "    };\n",
              "\n",
              "    function maybeLoadScript(lib, version) {\n",
              "      var key = `${lib.replace(\"-\", \"\")}_version`;\n",
              "      return (VEGA_DEBUG[key] == version) ?\n",
              "        Promise.resolve(paths[lib]) :\n",
              "        new Promise(function(resolve, reject) {\n",
              "          var s = document.createElement('script');\n",
              "          document.getElementsByTagName(\"head\")[0].appendChild(s);\n",
              "          s.async = true;\n",
              "          s.onload = () => {\n",
              "            VEGA_DEBUG[key] = version;\n",
              "            return resolve(paths[lib]);\n",
              "          };\n",
              "          s.onerror = () => reject(`Error loading script: ${paths[lib]}`);\n",
              "          s.src = paths[lib];\n",
              "        });\n",
              "    }\n",
              "\n",
              "    function showError(err) {\n",
              "      outputDiv.innerHTML = `<div class=\"error\" style=\"color:red;\">${err}</div>`;\n",
              "      throw err;\n",
              "    }\n",
              "\n",
              "    function displayChart(vegaEmbed) {\n",
              "      vegaEmbed(outputDiv, spec, embedOpt)\n",
              "        .catch(err => showError(`Javascript Error: ${err.message}<br>This usually means there's a typo in your chart specification. See the javascript console for the full traceback.`));\n",
              "    }\n",
              "\n",
              "    if(typeof define === \"function\" && define.amd) {\n",
              "      requirejs.config({paths});\n",
              "      require([\"vega-embed\"], displayChart, err => showError(`Error loading script: ${err.message}`));\n",
              "    } else {\n",
              "      maybeLoadScript(\"vega\", \"5\")\n",
              "        .then(() => maybeLoadScript(\"vega-lite\", \"4.17.0\"))\n",
              "        .then(() => maybeLoadScript(\"vega-embed\", \"6\"))\n",
              "        .catch(showError)\n",
              "        .then(() => displayChart(vegaEmbed));\n",
              "    }\n",
              "  })({\"config\": {\"view\": {\"continuousWidth\": 400, \"continuousHeight\": 300}}, \"data\": {\"name\": \"data-bc08e3de828475c297f92b5e2a94af5d\"}, \"mark\": \"point\", \"encoding\": {\"x\": {\"field\": \"number_of_all-inclusive_hotels\", \"type\": \"quantitative\"}, \"y\": {\"field\": \"feedback_score_out_of_10\", \"type\": \"quantitative\"}}, \"$schema\": \"https://vega.github.io/schema/vega-lite/v4.17.0.json\", \"datasets\": {\"data-bc08e3de828475c297f92b5e2a94af5d\": [{\"number_of_all-inclusive_hotels\": 9, \"feedback_score_out_of_10\": 10}, {\"number_of_all-inclusive_hotels\": 33, \"feedback_score_out_of_10\": 10}, {\"number_of_all-inclusive_hotels\": 2715, \"feedback_score_out_of_10\": 10}, {\"number_of_all-inclusive_hotels\": 5, \"feedback_score_out_of_10\": 10}, {\"number_of_all-inclusive_hotels\": 90, \"feedback_score_out_of_10\": 7}, {\"number_of_all-inclusive_hotels\": 30, \"feedback_score_out_of_10\": 8}, {\"number_of_all-inclusive_hotels\": 26, \"feedback_score_out_of_10\": 10}, {\"number_of_all-inclusive_hotels\": 80, \"feedback_score_out_of_10\": 10}, {\"number_of_all-inclusive_hotels\": 19, \"feedback_score_out_of_10\": 8}, {\"number_of_all-inclusive_hotels\": 38, \"feedback_score_out_of_10\": 9}, {\"number_of_all-inclusive_hotels\": 1718, \"feedback_score_out_of_10\": 7}, {\"number_of_all-inclusive_hotels\": 2842, \"feedback_score_out_of_10\": 7}, {\"number_of_all-inclusive_hotels\": 38, \"feedback_score_out_of_10\": 7}, {\"number_of_all-inclusive_hotels\": 16, \"feedback_score_out_of_10\": 8}, {\"number_of_all-inclusive_hotels\": 1915, \"feedback_score_out_of_10\": 8}]}}, {\"mode\": \"vega-lite\"});\n",
              "</script>"
            ],
            "text/plain": [
              "alt.Chart(...)"
            ]
          },
          "metadata": {},
          "execution_count": 43
        }
      ]
    },
    {
      "cell_type": "code",
      "source": [
        "print(\"negative correlation\")\n",
        "holiday.corr()"
      ],
      "metadata": {
        "colab": {
          "base_uri": "https://localhost:8080/",
          "height": 162
        },
        "id": "mHNz9IFMrxwu",
        "outputId": "2efc506b-2bca-4e7f-c750-fdf16148314b"
      },
      "execution_count": 45,
      "outputs": [
        {
          "output_type": "stream",
          "name": "stdout",
          "text": [
            "negative correlation\n"
          ]
        },
        {
          "output_type": "execute_result",
          "data": {
            "text/plain": [
              "                                feedback_score_out_of_10  \\\n",
              "feedback_score_out_of_10                        1.000000   \n",
              "average_hotel_star_rating                            NaN   \n",
              "number_of_all-inclusive_hotels                 -0.239902   \n",
              "\n",
              "                                average_hotel_star_rating  \\\n",
              "feedback_score_out_of_10                              NaN   \n",
              "average_hotel_star_rating                             NaN   \n",
              "number_of_all-inclusive_hotels                        NaN   \n",
              "\n",
              "                                number_of_all-inclusive_hotels  \n",
              "feedback_score_out_of_10                             -0.239902  \n",
              "average_hotel_star_rating                                  NaN  \n",
              "number_of_all-inclusive_hotels                        1.000000  "
            ],
            "text/html": [
              "\n",
              "  <div id=\"df-6946e1ce-88a4-46de-afc2-90954e9dcfdd\">\n",
              "    <div class=\"colab-df-container\">\n",
              "      <div>\n",
              "<style scoped>\n",
              "    .dataframe tbody tr th:only-of-type {\n",
              "        vertical-align: middle;\n",
              "    }\n",
              "\n",
              "    .dataframe tbody tr th {\n",
              "        vertical-align: top;\n",
              "    }\n",
              "\n",
              "    .dataframe thead th {\n",
              "        text-align: right;\n",
              "    }\n",
              "</style>\n",
              "<table border=\"1\" class=\"dataframe\">\n",
              "  <thead>\n",
              "    <tr style=\"text-align: right;\">\n",
              "      <th></th>\n",
              "      <th>feedback_score_out_of_10</th>\n",
              "      <th>average_hotel_star_rating</th>\n",
              "      <th>number_of_all-inclusive_hotels</th>\n",
              "    </tr>\n",
              "  </thead>\n",
              "  <tbody>\n",
              "    <tr>\n",
              "      <th>feedback_score_out_of_10</th>\n",
              "      <td>1.000000</td>\n",
              "      <td>NaN</td>\n",
              "      <td>-0.239902</td>\n",
              "    </tr>\n",
              "    <tr>\n",
              "      <th>average_hotel_star_rating</th>\n",
              "      <td>NaN</td>\n",
              "      <td>NaN</td>\n",
              "      <td>NaN</td>\n",
              "    </tr>\n",
              "    <tr>\n",
              "      <th>number_of_all-inclusive_hotels</th>\n",
              "      <td>-0.239902</td>\n",
              "      <td>NaN</td>\n",
              "      <td>1.000000</td>\n",
              "    </tr>\n",
              "  </tbody>\n",
              "</table>\n",
              "</div>\n",
              "      <button class=\"colab-df-convert\" onclick=\"convertToInteractive('df-6946e1ce-88a4-46de-afc2-90954e9dcfdd')\"\n",
              "              title=\"Convert this dataframe to an interactive table.\"\n",
              "              style=\"display:none;\">\n",
              "        \n",
              "  <svg xmlns=\"http://www.w3.org/2000/svg\" height=\"24px\"viewBox=\"0 0 24 24\"\n",
              "       width=\"24px\">\n",
              "    <path d=\"M0 0h24v24H0V0z\" fill=\"none\"/>\n",
              "    <path d=\"M18.56 5.44l.94 2.06.94-2.06 2.06-.94-2.06-.94-.94-2.06-.94 2.06-2.06.94zm-11 1L8.5 8.5l.94-2.06 2.06-.94-2.06-.94L8.5 2.5l-.94 2.06-2.06.94zm10 10l.94 2.06.94-2.06 2.06-.94-2.06-.94-.94-2.06-.94 2.06-2.06.94z\"/><path d=\"M17.41 7.96l-1.37-1.37c-.4-.4-.92-.59-1.43-.59-.52 0-1.04.2-1.43.59L10.3 9.45l-7.72 7.72c-.78.78-.78 2.05 0 2.83L4 21.41c.39.39.9.59 1.41.59.51 0 1.02-.2 1.41-.59l7.78-7.78 2.81-2.81c.8-.78.8-2.07 0-2.86zM5.41 20L4 18.59l7.72-7.72 1.47 1.35L5.41 20z\"/>\n",
              "  </svg>\n",
              "      </button>\n",
              "      \n",
              "  <style>\n",
              "    .colab-df-container {\n",
              "      display:flex;\n",
              "      flex-wrap:wrap;\n",
              "      gap: 12px;\n",
              "    }\n",
              "\n",
              "    .colab-df-convert {\n",
              "      background-color: #E8F0FE;\n",
              "      border: none;\n",
              "      border-radius: 50%;\n",
              "      cursor: pointer;\n",
              "      display: none;\n",
              "      fill: #1967D2;\n",
              "      height: 32px;\n",
              "      padding: 0 0 0 0;\n",
              "      width: 32px;\n",
              "    }\n",
              "\n",
              "    .colab-df-convert:hover {\n",
              "      background-color: #E2EBFA;\n",
              "      box-shadow: 0px 1px 2px rgba(60, 64, 67, 0.3), 0px 1px 3px 1px rgba(60, 64, 67, 0.15);\n",
              "      fill: #174EA6;\n",
              "    }\n",
              "\n",
              "    [theme=dark] .colab-df-convert {\n",
              "      background-color: #3B4455;\n",
              "      fill: #D2E3FC;\n",
              "    }\n",
              "\n",
              "    [theme=dark] .colab-df-convert:hover {\n",
              "      background-color: #434B5C;\n",
              "      box-shadow: 0px 1px 3px 1px rgba(0, 0, 0, 0.15);\n",
              "      filter: drop-shadow(0px 1px 2px rgba(0, 0, 0, 0.3));\n",
              "      fill: #FFFFFF;\n",
              "    }\n",
              "  </style>\n",
              "\n",
              "      <script>\n",
              "        const buttonEl =\n",
              "          document.querySelector('#df-6946e1ce-88a4-46de-afc2-90954e9dcfdd button.colab-df-convert');\n",
              "        buttonEl.style.display =\n",
              "          google.colab.kernel.accessAllowed ? 'block' : 'none';\n",
              "\n",
              "        async function convertToInteractive(key) {\n",
              "          const element = document.querySelector('#df-6946e1ce-88a4-46de-afc2-90954e9dcfdd');\n",
              "          const dataTable =\n",
              "            await google.colab.kernel.invokeFunction('convertToInteractive',\n",
              "                                                     [key], {});\n",
              "          if (!dataTable) return;\n",
              "\n",
              "          const docLinkHtml = 'Like what you see? Visit the ' +\n",
              "            '<a target=\"_blank\" href=https://colab.research.google.com/notebooks/data_table.ipynb>data table notebook</a>'\n",
              "            + ' to learn more about interactive tables.';\n",
              "          element.innerHTML = '';\n",
              "          dataTable['output_type'] = 'display_data';\n",
              "          await google.colab.output.renderOutput(dataTable, element);\n",
              "          const docLink = document.createElement('div');\n",
              "          docLink.innerHTML = docLinkHtml;\n",
              "          element.appendChild(docLink);\n",
              "        }\n",
              "      </script>\n",
              "    </div>\n",
              "  </div>\n",
              "  "
            ]
          },
          "metadata": {},
          "execution_count": 45
        }
      ]
    },
    {
      "cell_type": "code",
      "source": [
        "import matplotlib.pyplot as plt\n",
        "\n",
        "#2. Create a data visualisation diagram to show destination and highest scores?\n",
        "\n",
        "df = pd.DataFrame({'Destination': (\"Dubai\", \"The Caribbean\", \"Bali\", \"Seychelles\", \"The Silk Road\", \n",
        "                    \"Thailand\", \"Mauritius\", \"The Maldives\", \"Hawaii\", \"Aeolian Islands, Italy\", \"Ilha da Fuseta, Portugal\", \n",
        "                    \"Santa Giulia, Corsica\", \"Fiji\", \"Australia\", \"Cambodia\"),\n",
        "                   'feedback_score_out_of_10': [10, 10, 10, 10, 7, 8, 10, 10, 8, 9, 7, 7, 7, 8, 8]\n",
        "                     })\n",
        "\n",
        "chart = alt.Chart(df).mark_point().encode(x='Destination', y='feedback_score_out_of_10')\n",
        "\n",
        "chart"
      ],
      "metadata": {
        "colab": {
          "base_uri": "https://localhost:8080/",
          "height": 471
        },
        "id": "6NXWH4hlr7dR",
        "outputId": "7986b874-d9a3-49fd-f6ca-59269a2c956d"
      },
      "execution_count": 49,
      "outputs": [
        {
          "output_type": "execute_result",
          "data": {
            "text/html": [
              "\n",
              "<div id=\"altair-viz-ca6db916ae054078bc147a47c131a5b5\"></div>\n",
              "<script type=\"text/javascript\">\n",
              "  var VEGA_DEBUG = (typeof VEGA_DEBUG == \"undefined\") ? {} : VEGA_DEBUG;\n",
              "  (function(spec, embedOpt){\n",
              "    let outputDiv = document.currentScript.previousElementSibling;\n",
              "    if (outputDiv.id !== \"altair-viz-ca6db916ae054078bc147a47c131a5b5\") {\n",
              "      outputDiv = document.getElementById(\"altair-viz-ca6db916ae054078bc147a47c131a5b5\");\n",
              "    }\n",
              "    const paths = {\n",
              "      \"vega\": \"https://cdn.jsdelivr.net/npm//vega@5?noext\",\n",
              "      \"vega-lib\": \"https://cdn.jsdelivr.net/npm//vega-lib?noext\",\n",
              "      \"vega-lite\": \"https://cdn.jsdelivr.net/npm//vega-lite@4.17.0?noext\",\n",
              "      \"vega-embed\": \"https://cdn.jsdelivr.net/npm//vega-embed@6?noext\",\n",
              "    };\n",
              "\n",
              "    function maybeLoadScript(lib, version) {\n",
              "      var key = `${lib.replace(\"-\", \"\")}_version`;\n",
              "      return (VEGA_DEBUG[key] == version) ?\n",
              "        Promise.resolve(paths[lib]) :\n",
              "        new Promise(function(resolve, reject) {\n",
              "          var s = document.createElement('script');\n",
              "          document.getElementsByTagName(\"head\")[0].appendChild(s);\n",
              "          s.async = true;\n",
              "          s.onload = () => {\n",
              "            VEGA_DEBUG[key] = version;\n",
              "            return resolve(paths[lib]);\n",
              "          };\n",
              "          s.onerror = () => reject(`Error loading script: ${paths[lib]}`);\n",
              "          s.src = paths[lib];\n",
              "        });\n",
              "    }\n",
              "\n",
              "    function showError(err) {\n",
              "      outputDiv.innerHTML = `<div class=\"error\" style=\"color:red;\">${err}</div>`;\n",
              "      throw err;\n",
              "    }\n",
              "\n",
              "    function displayChart(vegaEmbed) {\n",
              "      vegaEmbed(outputDiv, spec, embedOpt)\n",
              "        .catch(err => showError(`Javascript Error: ${err.message}<br>This usually means there's a typo in your chart specification. See the javascript console for the full traceback.`));\n",
              "    }\n",
              "\n",
              "    if(typeof define === \"function\" && define.amd) {\n",
              "      requirejs.config({paths});\n",
              "      require([\"vega-embed\"], displayChart, err => showError(`Error loading script: ${err.message}`));\n",
              "    } else {\n",
              "      maybeLoadScript(\"vega\", \"5\")\n",
              "        .then(() => maybeLoadScript(\"vega-lite\", \"4.17.0\"))\n",
              "        .then(() => maybeLoadScript(\"vega-embed\", \"6\"))\n",
              "        .catch(showError)\n",
              "        .then(() => displayChart(vegaEmbed));\n",
              "    }\n",
              "  })({\"config\": {\"view\": {\"continuousWidth\": 400, \"continuousHeight\": 300}}, \"data\": {\"name\": \"data-d9fe892fe569f195ee54ebf80a98155e\"}, \"mark\": \"point\", \"encoding\": {\"x\": {\"field\": \"Destination\", \"type\": \"nominal\"}, \"y\": {\"field\": \"feedback_score_out_of_10\", \"type\": \"quantitative\"}}, \"$schema\": \"https://vega.github.io/schema/vega-lite/v4.17.0.json\", \"datasets\": {\"data-d9fe892fe569f195ee54ebf80a98155e\": [{\"Destination\": \"Dubai\", \"feedback_score_out_of_10\": 10}, {\"Destination\": \"The Caribbean\", \"feedback_score_out_of_10\": 10}, {\"Destination\": \"Bali\", \"feedback_score_out_of_10\": 10}, {\"Destination\": \"Seychelles\", \"feedback_score_out_of_10\": 10}, {\"Destination\": \"The Silk Road\", \"feedback_score_out_of_10\": 7}, {\"Destination\": \"Thailand\", \"feedback_score_out_of_10\": 8}, {\"Destination\": \"Mauritius\", \"feedback_score_out_of_10\": 10}, {\"Destination\": \"The Maldives\", \"feedback_score_out_of_10\": 10}, {\"Destination\": \"Hawaii\", \"feedback_score_out_of_10\": 8}, {\"Destination\": \"Aeolian Islands, Italy\", \"feedback_score_out_of_10\": 9}, {\"Destination\": \"Ilha da Fuseta, Portugal\", \"feedback_score_out_of_10\": 7}, {\"Destination\": \"Santa Giulia, Corsica\", \"feedback_score_out_of_10\": 7}, {\"Destination\": \"Fiji\", \"feedback_score_out_of_10\": 7}, {\"Destination\": \"Australia\", \"feedback_score_out_of_10\": 8}, {\"Destination\": \"Cambodia\", \"feedback_score_out_of_10\": 8}]}}, {\"mode\": \"vega-lite\"});\n",
              "</script>"
            ],
            "text/plain": [
              "alt.Chart(...)"
            ]
          },
          "metadata": {},
          "execution_count": 49
        }
      ]
    },
    {
      "cell_type": "code",
      "source": [
        "#alternative solution using plot()\n",
        "\n",
        "holiday.set_index(\"Destination\", inplace = True)\n",
        "holiday.plot.bar(y=\"feedback_score_out_of_10\")"
      ],
      "metadata": {
        "colab": {
          "base_uri": "https://localhost:8080/",
          "height": 405
        },
        "id": "dv-S6QRiDeej",
        "outputId": "42f09332-3aa8-4c0f-a606-bf2a36a0dc85"
      },
      "execution_count": 42,
      "outputs": [
        {
          "output_type": "execute_result",
          "data": {
            "text/plain": [
              "<matplotlib.axes._subplots.AxesSubplot at 0x7fbe2ad22210>"
            ]
          },
          "metadata": {},
          "execution_count": 42
        },
        {
          "output_type": "display_data",
          "data": {
            "text/plain": [
              "<Figure size 432x288 with 1 Axes>"
            ],
            "image/png": "[encoded data removed]"
          },
          "metadata": {
            "needs_background": "light"
          }
        }
      ]
    }
  ]
}